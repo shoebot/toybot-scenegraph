{
 "cells": [
  {
   "cell_type": "markdown",
   "metadata": {},
   "source": [
    "Integrating the SceneGraph notebooks with the Toybot notebooks\n",
    "\n",
    "This version does not include the code to run the bot as a script."
   ]
  },
  {
   "cell_type": "markdown",
   "metadata": {},
   "source": [
    "SceneGraph\n",
    "==\n",
    "\n",
    "The scenegraph stores operations as nodes.\n",
    "\n",
    "These include that change state (fill, stroke etc) and operations that result in elements being drawn (path)"
   ]
  },
  {
   "cell_type": "code",
   "execution_count": 1,
   "metadata": {},
   "outputs": [],
   "source": [
    "class SceneGraph:\n",
    "    def __init__(self):\n",
    "        self.nodes = []\n",
    "        \n",
    "    def add_node(self, node):\n",
    "        self.nodes.append(node)\n",
    "    \n",
    "    def __iter__(self):\n",
    "        \"\"\"\n",
    "        Iterator that yields every node in the graph\n",
    "        \"\"\"\n",
    "        for node in self.nodes:\n",
    "            yield node"
   ]
  },
  {
   "cell_type": "markdown",
   "metadata": {},
   "source": [
    "ConsoleRenderer\n",
    "==\n",
    "\n",
    "The ConsoleRenderer outputs every node of scenegraph to the console"
   ]
  },
  {
   "cell_type": "code",
   "execution_count": 2,
   "metadata": {},
   "outputs": [],
   "source": [
    "class ConsoleRenderer:\n",
    "    def render(self, graph):\n",
    "        for node in graph:\n",
    "            print(node)         "
   ]
  },
  {
   "cell_type": "markdown",
   "metadata": {},
   "source": [
    "Demo\n",
    "==\n",
    "\n",
    "Add nodes to a graph and render to the console using the ConsoleRenderer"
   ]
  },
  {
   "cell_type": "code",
   "execution_count": 3,
   "metadata": {},
   "outputs": [
    {
     "name": "stdout",
     "output_type": "stream",
     "text": [
      "{'type': 'fill', 'color': (1, 0, 0)}\n",
      "{'type': 'stroke', 'color': (1, 0, 0)}\n",
      "{'type': 'path', 'coords': [(0, 0), (10, 0), (10, 10), (0, 10)]}\n"
     ]
    }
   ],
   "source": [
    "graph = SceneGraph()\n",
    "graph.add_node({\"type\":\"fill\", \"color\": (1, 0, 0)})\n",
    "graph.add_node({\"type\":\"stroke\", \"color\": (1, 0, 0)})\n",
    "graph.add_node({\"type\": \"path\", \"coords\": [(0, 0), (10, 0), (10, 10), (0, 10)]})\n",
    "\n",
    "renderer = ConsoleRenderer()\n",
    "renderer.render(graph)"
   ]
  },
  {
   "cell_type": "markdown",
   "metadata": {},
   "source": [
    "Grammar\n",
    "==\n",
    "\n",
    "The ToyBot class provides the user-facing API for drawing and setting up colours."
   ]
  },
  {
   "cell_type": "code",
   "execution_count": 4,
   "metadata": {},
   "outputs": [],
   "source": [
    "class ToyBot:\n",
    "    def __init__(self, graph):\n",
    "        self.graph = graph\n",
    "    \n",
    "    def rect(self, x, y, width, height, fill=None, stroke=None):\n",
    "        coords = [(x, y), (x, y+height), (x+width, y+height), (x+width, y)]\n",
    "        node = {'type': 'path', 'coords': coords}\n",
    "        \n",
    "        self.graph.add_node(node)"
   ]
  },
  {
   "cell_type": "markdown",
   "metadata": {},
   "source": [
    "## Putting it all together - Render bots from python\n",
    "\n",
    "One a scenegraph, renderer and bot instance are created it's possible to draw by calling methods on the bot itself.\n",
    "\n",
    "Once drawing is complete, call render on the renderer to get the output."
   ]
  },
  {
   "cell_type": "raw",
   "metadata": {},
   "source": [
    "graph = SceneGraph()\n",
    "renderer = ConsoleRenderer()\n",
    "\n",
    "toybot = ToyBot(graph)\n",
    "toybot.rect(0, 0, 100, 100)\n",
    "toybot.rect(25, 30, 50, 70)\n",
    "\n",
    "renderer.render(graph)"
   ]
  }
 ],
 "metadata": {
  "kernelspec": {
   "display_name": "Python 3",
   "language": "python",
   "name": "python3"
  },
  "language_info": {
   "codemirror_mode": {
    "name": "ipython",
    "version": 3
   },
   "file_extension": ".py",
   "mimetype": "text/x-python",
   "name": "python",
   "nbconvert_exporter": "python",
   "pygments_lexer": "ipython3",
   "version": "3.6.8"
  }
 },
 "nbformat": 4,
 "nbformat_minor": 2
}
