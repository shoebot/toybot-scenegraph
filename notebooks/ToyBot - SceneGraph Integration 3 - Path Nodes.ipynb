{
 "cells": [
  {
   "cell_type": "markdown",
   "metadata": {},
   "source": [
    "Integrating the SceneGraph notebooks with the Toybot notebooks\n",
    "\n",
    "This includes code to run the bot as script."
   ]
  },
  {
   "cell_type": "markdown",
   "metadata": {},
   "source": [
    "SceneGraph\n",
    "==\n",
    "\n",
    "The scenegraph stores operations as nodes.\n",
    "\n",
    "These include that change state (fill, stroke etc) and operations that result in elements being drawn (path)"
   ]
  },
  {
   "cell_type": "code",
   "execution_count": 13,
   "metadata": {},
   "outputs": [],
   "source": [
    "class SceneGraph:\n",
    "    def __init__(self):\n",
    "        self.nodes = []\n",
    "        \n",
    "    def add_node(self, node):\n",
    "        self.nodes.append(node)\n",
    "    \n",
    "    def __iter__(self):\n",
    "        \"\"\"\n",
    "        Iterator that yields every node in the graph\n",
    "        \"\"\"\n",
    "        for node in self.nodes:\n",
    "            yield node"
   ]
  },
  {
   "cell_type": "markdown",
   "metadata": {},
   "source": [
    "## Nodes"
   ]
  },
  {
   "cell_type": "markdown",
   "metadata": {},
   "source": [
    "### Path\n",
    "\n",
    "We'll start with the simplest shape -- a path made of straight lines -- and later implement new ones once we agree on a clear structure for the node/graph architecture.\n",
    "\n",
    "It should only need:\n",
    "\n",
    "* the minimum number of vars to store values\n",
    "* methods to edit the path\n",
    "* a method to dump as JSON\n",
    "\n",
    "We will probably want a `Node` base class, but let's start simple."
   ]
  },
  {
   "cell_type": "code",
   "execution_count": 14,
   "metadata": {},
   "outputs": [],
   "source": [
    "class Path:\n",
    "    def __init__(self):\n",
    "        self.coords = []\n",
    "    \n",
    "    def add_point(self, x, y):\n",
    "        self.coords.append((x, y))\n",
    "    \n",
    "    def as_dict(self):\n",
    "        return {'type': 'path', 'coords': self.coords}\n",
    "    \n",
    "    def as_json(self):\n",
    "        import json\n",
    "        return json.dumps(self.as_dict())"
   ]
  },
  {
   "cell_type": "markdown",
   "metadata": {},
   "source": [
    "Let's try it now:"
   ]
  },
  {
   "cell_type": "code",
   "execution_count": 15,
   "metadata": {},
   "outputs": [
    {
     "name": "stdout",
     "output_type": "stream",
     "text": [
      "{\"type\": \"path\", \"coords\": [[10, 10], [10, 100], [100, 100], [100, 10]]}\n"
     ]
    }
   ],
   "source": [
    "p = Path()\n",
    "p.add_point(10, 10)\n",
    "p.add_point(10, 100)\n",
    "p.add_point(100, 100)\n",
    "p.add_point(100, 10)\n",
    "\n",
    "print(p.as_json())"
   ]
  },
  {
   "cell_type": "markdown",
   "metadata": {},
   "source": [
    "Now it's time to create an instance of our scene graph and add this path to it, so we can render it later."
   ]
  },
  {
   "cell_type": "code",
   "execution_count": 16,
   "metadata": {},
   "outputs": [],
   "source": [
    "graph = SceneGraph()\n",
    "graph.add_node(p)"
   ]
  },
  {
   "cell_type": "markdown",
   "metadata": {},
   "source": [
    "ConsoleRenderer\n",
    "==\n",
    "\n",
    "The ConsoleRenderer outputs every node of scenegraph to the console"
   ]
  },
  {
   "cell_type": "code",
   "execution_count": 17,
   "metadata": {},
   "outputs": [],
   "source": [
    "class ConsoleRenderer:\n",
    "    def render(self, graph):\n",
    "        for node in graph:\n",
    "            print(node.as_json())"
   ]
  },
  {
   "cell_type": "markdown",
   "metadata": {},
   "source": [
    "Now render our graph:"
   ]
  },
  {
   "cell_type": "code",
   "execution_count": 18,
   "metadata": {},
   "outputs": [
    {
     "name": "stdout",
     "output_type": "stream",
     "text": [
      "{\"type\": \"path\", \"coords\": [[10, 10], [10, 100], [100, 100], [100, 10]]}\n"
     ]
    }
   ],
   "source": [
    "renderer = ConsoleRenderer()\n",
    "renderer.render(graph)"
   ]
  },
  {
   "cell_type": "markdown",
   "metadata": {},
   "source": [
    "We could also set `__str__` on the Node object so it returns a prettier output, but while ugly, JSON is handy if we want to pass data around."
   ]
  },
  {
   "cell_type": "markdown",
   "metadata": {},
   "source": [
    "Grammar\n",
    "==\n",
    "\n",
    "The ToyBot class provides the user-facing API for drawing and setting up colours."
   ]
  },
  {
   "cell_type": "code",
   "execution_count": 19,
   "metadata": {},
   "outputs": [],
   "source": [
    "class ToyBot:\n",
    "    def __init__(self, graph):\n",
    "        self.graph = graph\n",
    "    \n",
    "    def rect(self, x, y, width, height, fill=None, stroke=None):\n",
    "        coords = [(x, y), (x, y+height), (x+width, y+height), (x+width, y)]\n",
    "        p = Path()\n",
    "        # Let's just set coords directly instead of calling add_node repeatedly\n",
    "        p.coords = coords        \n",
    "        self.graph.add_node(p)"
   ]
  },
  {
   "cell_type": "markdown",
   "metadata": {},
   "source": [
    "# Scripting"
   ]
  },
  {
   "cell_type": "markdown",
   "metadata": {},
   "source": [
    "## Setup the scripting namespace\n",
    "\n",
    "This function adds all the user-facing API of a bot into a namespace to enable scripting."
   ]
  },
  {
   "cell_type": "code",
   "execution_count": 20,
   "metadata": {},
   "outputs": [],
   "source": [
    "import inspect\n",
    "\n",
    "def create_scripting_namespace(bot):\n",
    "    namespace = {}\n",
    "    for name, method in inspect.getmembers(bot, predicate=inspect.ismethod):\n",
    "        if name.startswith('__'):\n",
    "            continue\n",
    "        namespace[name] = method\n",
    "    return namespace"
   ]
  },
  {
   "cell_type": "markdown",
   "metadata": {},
   "source": [
    "**Note:** This is only gathering functions, not variables."
   ]
  },
  {
   "cell_type": "raw",
   "metadata": {},
   "source": [
    "@stu > This needs a unit test.\n",
    "@stu > The test would pass in a ToyBot instance and check that the dict returned has the expected members."
   ]
  },
  {
   "cell_type": "markdown",
   "metadata": {},
   "source": [
    "## Running a script\n",
    "\n",
    "The run function accepts a bot script, does the setup needed to render a bot and then renders."
   ]
  },
  {
   "cell_type": "code",
   "execution_count": 21,
   "metadata": {},
   "outputs": [],
   "source": [
    "def run(source):\n",
    "    graph = SceneGraph()\n",
    "    renderer = ConsoleRenderer()\n",
    "\n",
    "    bot = ToyBot(graph)\n",
    "    namespace = create_scripting_namespace(bot)\n",
    "    \n",
    "    exec(source, namespace)\n",
    "\n",
    "    renderer.render(graph)"
   ]
  },
  {
   "cell_type": "markdown",
   "metadata": {},
   "source": [
    "## Putting it all together - using the scripting interface\n",
    "\n",
    "The scripting interface provides the simplest way of using ToyBot.\n",
    "\n",
    "Pass the code to render to run function."
   ]
  },
  {
   "cell_type": "code",
   "execution_count": 22,
   "metadata": {},
   "outputs": [
    {
     "name": "stdout",
     "output_type": "stream",
     "text": [
      "{\"type\": \"path\", \"coords\": [[0, 0], [0, 100], [100, 100], [100, 0]]}\n",
      "{\"type\": \"path\", \"coords\": [[25, 30], [25, 100], [75, 100], [75, 30]]}\n"
     ]
    }
   ],
   "source": [
    "code = \"\"\"\n",
    "rect(0, 0, 100, 100)\n",
    "rect(25, 30, 50, 70)\n",
    "\"\"\"\n",
    "\n",
    "run(code)"
   ]
  }
 ],
 "metadata": {
  "kernelspec": {
   "display_name": "Python 3",
   "language": "python",
   "name": "python3"
  },
  "language_info": {
   "codemirror_mode": {
    "name": "ipython",
    "version": 3
   },
   "file_extension": ".py",
   "mimetype": "text/x-python",
   "name": "python",
   "nbconvert_exporter": "python",
   "pygments_lexer": "ipython3",
   "version": "3.7.2"
  }
 },
 "nbformat": 4,
 "nbformat_minor": 2
}
