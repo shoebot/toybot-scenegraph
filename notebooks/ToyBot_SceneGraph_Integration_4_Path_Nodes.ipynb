{
 "cells": [
  {
   "cell_type": "markdown",
   "metadata": {},
   "source": [
    "Integrating the SceneGraph notebooks with the Toybot notebooks\n",
    "\n",
    "This includes code to run the bot as script."
   ]
  },
  {
   "cell_type": "markdown",
   "metadata": {},
   "source": [
    "SceneGraph\n",
    "==\n",
    "\n",
    "The scenegraph stores operations as nodes.\n",
    "\n",
    "These include that change state (fill, stroke etc) and operations that result in elements being drawn (path)"
   ]
  },
  {
   "cell_type": "code",
   "execution_count": null,
   "metadata": {},
   "outputs": [],
   "source": [
    "class SceneGraph:\n",
    "    def __init__(self):\n",
    "        self.nodes = []\n",
    "        \n",
    "    def add_node(self, node):\n",
    "        self.nodes.append(node)\n",
    "    \n",
    "    def __iter__(self):\n",
    "        \"\"\"\n",
    "        Iterator that yields every node in the graph\n",
    "        \"\"\"\n",
    "        yield from self.nodes.__iter__()"
   ]
  },
  {
   "cell_type": "markdown",
   "metadata": {},
   "source": [
    "## Nodes"
   ]
  },
  {
   "cell_type": "markdown",
   "metadata": {},
   "source": [
    "### Path\n",
    "\n",
    "We'll start with the simplest shape -- a path made of straight lines -- and later implement new ones once we agree on a clear structure for the node/graph architecture.\n",
    "\n",
    "It should only need:\n",
    "\n",
    "* the minimum number of vars to store values\n",
    "* methods to edit the path\n",
    "* a method to represent the path as in the repl to help with debugging.\n",
    "\n",
    "We will probably want a `Node` base class, but let's start simple."
   ]
  },
  {
   "cell_type": "code",
   "execution_count": null,
   "metadata": {},
   "outputs": [],
   "source": [
    "class Path:\n",
    "    def __init__(self, coords=None):\n",
    "        if coords is None:\n",
    "            self.coords = []\n",
    "        else:\n",
    "            self.coords = coords\n",
    "    \n",
    "    def add_point(self, x, y):\n",
    "        self.coords.append((x, y))\n",
    "\n",
    "    def __repr__(self):\n",
    "        return f'<Path: {self.coords}>'"
   ]
  },
  {
   "cell_type": "markdown",
   "metadata": {},
   "source": [
    "Let's try it now:"
   ]
  },
  {
   "cell_type": "code",
   "execution_count": null,
   "metadata": {},
   "outputs": [],
   "source": [
    "p = Path()\n",
    "p.add_point(10, 10)\n",
    "p.add_point(10, 100)\n",
    "p.add_point(100, 100)\n",
    "p.add_point(100, 10)"
   ]
  },
  {
   "cell_type": "code",
   "execution_count": null,
   "metadata": {},
   "outputs": [],
   "source": [
    "print(p)"
   ]
  },
  {
   "cell_type": "markdown",
   "metadata": {},
   "source": [
    "Now it's time to create an instance of our scene graph and add this path to it, so we can render it later."
   ]
  },
  {
   "cell_type": "code",
   "execution_count": null,
   "metadata": {},
   "outputs": [],
   "source": [
    "graph = SceneGraph()\n",
    "graph.add_node(p)"
   ]
  },
  {
   "cell_type": "markdown",
   "metadata": {},
   "source": [
    "ConsoleRenderer\n",
    "==\n",
    "\n",
    "The ConsoleRenderer outputs every node of scenegraph to the console.\n",
    "\n",
    "JSON is the default output format, to make data transfer easy.\n",
    "\n",
    "Data formats are changed by passing a function to `outputformat` that accepts nodes and returns data in the desired format.\n"
   ]
  },
  {
   "cell_type": "code",
   "execution_count": null,
   "metadata": {
    "lines_to_next_cell": 1
   },
   "outputs": [],
   "source": [
    "import jsons"
   ]
  },
  {
   "cell_type": "code",
   "execution_count": null,
   "metadata": {},
   "outputs": [],
   "source": [
    "class ConsoleRenderer:\n",
    "    def __init__(self, outputformat=jsons.dumps):\n",
    "        if not outputformat:\n",
    "            outputformat = lambda data: data\n",
    "        self.outputformat=outputformat\n",
    "    \n",
    "    def render(self, graph):\n",
    "        print(self.outputformat([node for node in graph]))"
   ]
  },
  {
   "cell_type": "markdown",
   "metadata": {},
   "source": [
    "Now render our graph:"
   ]
  },
  {
   "cell_type": "code",
   "execution_count": null,
   "metadata": {},
   "outputs": [],
   "source": [
    "renderer = ConsoleRenderer()\n",
    "renderer.render(graph)"
   ]
  },
  {
   "cell_type": "markdown",
   "metadata": {},
   "source": [
    "If JSON is not required, setting `outputformat` to None will output the scene graph content in the format used by the python repl:"
   ]
  },
  {
   "cell_type": "code",
   "execution_count": null,
   "metadata": {},
   "outputs": [],
   "source": [
    "renderer = ConsoleRenderer(outputformat=None)\n",
    "renderer.render(graph)"
   ]
  },
  {
   "cell_type": "markdown",
   "metadata": {},
   "source": [
    "Grammar\n",
    "==\n",
    "\n",
    "The ToyBot class provides the user-facing API for drawing and setting up colours."
   ]
  },
  {
   "cell_type": "code",
   "execution_count": null,
   "metadata": {},
   "outputs": [],
   "source": [
    "class ToyBot:\n",
    "    def __init__(self, graph):\n",
    "        self.graph = graph\n",
    "    \n",
    "    def rect(self, x, y, width, height, fill=None, stroke=None):\n",
    "        p = Path(coords=[(x, y),\n",
    "                         (x, y+height),\n",
    "                         (x+width, y+height),\n",
    "                         (x+width, y)])\n",
    "        self.graph.add_node(p)\n",
    "        return p        "
   ]
  },
  {
   "cell_type": "markdown",
   "metadata": {},
   "source": [
    "# Scripting"
   ]
  },
  {
   "cell_type": "markdown",
   "metadata": {},
   "source": [
    "## Setup the scripting namespace\n",
    "\n",
    "This function adds all the user-facing API of a bot into a namespace to enable scripting."
   ]
  },
  {
   "cell_type": "code",
   "execution_count": null,
   "metadata": {
    "lines_to_next_cell": 1
   },
   "outputs": [],
   "source": [
    "import inspect"
   ]
  },
  {
   "cell_type": "code",
   "execution_count": null,
   "metadata": {},
   "outputs": [],
   "source": [
    "def create_scripting_namespace(bot):\n",
    "    namespace = {}\n",
    "    for name, method in inspect.getmembers(bot, predicate=inspect.ismethod):\n",
    "        if name.startswith('__'):\n",
    "            continue\n",
    "        namespace[name] = method\n",
    "    return namespace"
   ]
  },
  {
   "cell_type": "markdown",
   "metadata": {},
   "source": [
    "## Running a script\n",
    "\n",
    "The run function accepts a bot script, does the setup needed to render a bot and then renders."
   ]
  },
  {
   "cell_type": "code",
   "execution_count": null,
   "metadata": {},
   "outputs": [],
   "source": [
    "def run(source):\n",
    "    renderer = ConsoleRenderer()\n",
    "    \n",
    "    graph = SceneGraph()\n",
    "    bot = ToyBot(graph)\n",
    "\n",
    "    namespace = create_scripting_namespace(bot)\n",
    "    \n",
    "    exec(source, namespace)\n",
    "\n",
    "    renderer.render(graph)"
   ]
  },
  {
   "cell_type": "markdown",
   "metadata": {},
   "source": [
    "## Putting it all together - using the scripting interface\n",
    "\n",
    "The scripting interface provides the simplest way of using ToyBot.\n",
    "\n",
    "Pass the code to render to run function."
   ]
  },
  {
   "cell_type": "code",
   "execution_count": null,
   "metadata": {},
   "outputs": [],
   "source": [
    "code = \"\"\"\n",
    "rect(0, 0, 100, 100)\n",
    "rect(25, 30, 50, 70)\n",
    "\"\"\""
   ]
  },
  {
   "cell_type": "code",
   "execution_count": null,
   "metadata": {},
   "outputs": [],
   "source": [
    "run(code)"
   ]
  }
 ],
 "metadata": {
  "jupytext": {
   "formats": "ipynb,py"
  },
  "kernelspec": {
   "display_name": "Python 3",
   "language": "python",
   "name": "python3"
  }
 },
 "nbformat": 4,
 "nbformat_minor": 4
}
